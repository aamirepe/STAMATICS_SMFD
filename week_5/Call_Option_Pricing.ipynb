{
 "cells": [
  {
   "cell_type": "markdown",
   "id": "83e34732",
   "metadata": {},
   "source": [
    "# Simulation of Call Option Prices via Stochastic Differential Equations\n",
    "\n",
    "This notebook simulates and prices four types of call options using the **Euler–Maruyama** method in conjunction with **Monte Carlo simulations**. The asset dynamics follow the **Geometric Brownian Motion (GBM)** model.\n",
    "\n",
    "## Options Priced\n",
    "- European Call Option\n",
    "- Arithmetic Asian Call Option\n",
    "- Geometric Asian Call Option\n",
    "- Lookback Call Option (Floating Strike)\n",
    "\n",
    "## Assumptions\n",
    "- $S_0 = 100$\n",
    "- $K = 100$\n",
    "- $r = 0.05$\n",
    "- $\\sigma = 0.2$\n",
    "- $T = 1$ year\n",
    "- 252 time steps (daily)\n",
    "- 10,000 Monte Carlo simulations\n"
   ]
  },
  {
   "cell_type": "code",
   "execution_count": 1,
   "id": "8fc2d050",
   "metadata": {},
   "outputs": [],
   "source": [
    "import numpy as np\n",
    "import matplotlib.pyplot as plt\n",
    "\n",
    "# Set random seed\n",
    "np.random.seed(42)\n",
    "\n",
    "# Parameters\n",
    "S0 = 100        # initial stock price\n",
    "K = 100         # strike price\n",
    "r = 0.05        # risk-free rate\n",
    "sigma = 0.2     # volatility\n",
    "T = 1.0         # time to maturity\n",
    "M = 252         # number of time steps\n",
    "dt = T / M      # time step size\n",
    "N = 10000       # number of simulations\n"
   ]
  },
  {
   "cell_type": "code",
   "execution_count": null,
   "id": "9635b79e",
   "metadata": {},
   "outputs": [],
   "source": [
    "def simulate_gbm_paths(S0, r, sigma, T, M, N):\n",
    "    dt = T / M\n",
    "    S = np.zeros((N, M + 1))\n",
    "    S[:, 0] = S0\n",
    "    for t in range(1, M + 1):\n",
    "        Z = np.random.standard_normal(N)\n",
    "        S[:, t] = S[:, t - 1] * np.exp((r - 0.5 * sigma**2) * dt + sigma * np.sqrt(dt) * Z)\n",
    "    return S\n"
   ]
  },
  {
   "cell_type": "code",
   "execution_count": null,
   "id": "ba46b1d4",
   "metadata": {},
   "outputs": [],
   "source": [
    "def european_call(S, K):\n",
    "    return np.maximum(S[:, -1] - K, 0)\n",
    "\n",
    "def arithmetic_asian_call(S, K):\n",
    "    avg_price = np.mean(S[:, 1:], axis=1)\n",
    "    return np.maximum(avg_price - K, 0)\n",
    "\n",
    "def geometric_asian_call(S, K):\n",
    "    log_S = np.log(S[:, 1:])\n",
    "    avg_log = np.mean(log_S, axis=1)\n",
    "    geom_mean = np.exp(avg_log)\n",
    "    return np.maximum(geom_mean - K, 0)\n",
    "\n",
    "def lookback_call(S):\n",
    "    min_price = np.min(S[:, 1:], axis=1)\n",
    "    return np.maximum(S[:, -1] - min_price, 0)\n"
   ]
  },
  {
   "cell_type": "code",
   "execution_count": null,
   "id": "9f3d6cea",
   "metadata": {},
   "outputs": [],
   "source": [
    "def monte_carlo_price(payoffs, r, T):\n",
    "    return np.exp(-r * T) * np.mean(payoffs)\n"
   ]
  },
  {
   "cell_type": "code",
   "execution_count": null,
   "id": "eda29ced",
   "metadata": {},
   "outputs": [],
   "source": [
    "paths = simulate_gbm_paths(S0, r, sigma, T, M, N)\n",
    "\n",
    "european_price = monte_carlo_price(european_call(paths, K), r, T)\n",
    "arithmetic_asian_price = monte_carlo_price(arithmetic_asian_call(paths, K), r, T)\n",
    "geometric_asian_price = monte_carlo_price(geometric_asian_call(paths, K), r, T)\n",
    "lookback_price = monte_carlo_price(lookback_call(paths), r, T)\n",
    "\n",
    "print(\"European Call Option Price:\", european_price)\n",
    "print(\"Arithmetic Asian Call Option Price:\", arithmetic_asian_price)\n",
    "print(\"Geometric Asian Call Option Price:\", geometric_asian_price)\n",
    "print(\"Lookback Call Option Price (Floating Strike):\", lookback_price)\n"
   ]
  }
 ],
 "metadata": {
  "kernelspec": {
   "display_name": "base",
   "language": "python",
   "name": "python3"
  },
  "language_info": {
   "codemirror_mode": {
    "name": "ipython",
    "version": 3
   },
   "file_extension": ".py",
   "mimetype": "text/x-python",
   "name": "python",
   "nbconvert_exporter": "python",
   "pygments_lexer": "ipython3",
   "version": "3.11.8"
  }
 },
 "nbformat": 4,
 "nbformat_minor": 5
}
